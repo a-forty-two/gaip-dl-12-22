{
  "nbformat": 4,
  "nbformat_minor": 0,
  "metadata": {
    "colab": {
      "provenance": []
    },
    "kernelspec": {
      "name": "python3",
      "display_name": "Python 3"
    },
    "language_info": {
      "name": "python"
    }
  },
  "cells": [
    {
      "cell_type": "code",
      "execution_count": null,
      "metadata": {
        "id": "nU7AQMLeFO-i"
      },
      "outputs": [],
      "source": [
        "from tensorflow import keras\n",
        "import tensorflow"
      ]
    },
    {
      "cell_type": "code",
      "source": [
        "alldata = keras.datasets.imdb\n",
        "dir(alldata)\n"
      ],
      "metadata": {
        "colab": {
          "base_uri": "https://localhost:8080/"
        },
        "id": "pmCEnvutHDkH",
        "outputId": "f664154a-8964-4dcf-8db7-afb5f2f871f1"
      },
      "execution_count": null,
      "outputs": [
        {
          "output_type": "execute_result",
          "data": {
            "text/plain": [
              "['__builtins__',\n",
              " '__cached__',\n",
              " '__doc__',\n",
              " '__file__',\n",
              " '__loader__',\n",
              " '__name__',\n",
              " '__package__',\n",
              " '__path__',\n",
              " '__spec__',\n",
              " '_sys',\n",
              " 'get_word_index',\n",
              " 'load_data']"
            ]
          },
          "metadata": {},
          "execution_count": 26
        }
      ]
    },
    {
      "cell_type": "code",
      "source": [
        "data = alldata.load_data()"
      ],
      "metadata": {
        "id": "5aM1hTifHJGn"
      },
      "execution_count": null,
      "outputs": []
    },
    {
      "cell_type": "code",
      "source": [
        "len(data), len(data[0])"
      ],
      "metadata": {
        "colab": {
          "base_uri": "https://localhost:8080/"
        },
        "id": "K5Mezg9NHe_Z",
        "outputId": "898d9309-2d16-4395-ed23-73fbc3bb0c29"
      },
      "execution_count": null,
      "outputs": [
        {
          "output_type": "execute_result",
          "data": {
            "text/plain": [
              "(2, 2)"
            ]
          },
          "metadata": {},
          "execution_count": 28
        }
      ]
    },
    {
      "cell_type": "code",
      "source": [
        "len(data[0][0])"
      ],
      "metadata": {
        "colab": {
          "base_uri": "https://localhost:8080/"
        },
        "id": "pG58raOJHg00",
        "outputId": "21019c81-da81-4988-dcbb-71e63d55a88d"
      },
      "execution_count": null,
      "outputs": [
        {
          "output_type": "execute_result",
          "data": {
            "text/plain": [
              "25000"
            ]
          },
          "metadata": {},
          "execution_count": 29
        }
      ]
    },
    {
      "cell_type": "code",
      "source": [
        "#print(xtrain[142])"
      ],
      "metadata": {
        "id": "RR2F-ofPOb7r"
      },
      "execution_count": null,
      "outputs": []
    },
    {
      "cell_type": "code",
      "source": [
        "HP_vocab_size = 10000\n",
        "HP_epochs = 50\n",
        "HP_batch_size = 32\n",
        "HP_maxlen = 256\n",
        "HP_initial_LR = 0.001\n",
        "# when learning is complete, lr = 0!\n",
        "# 0 = 1e-3 + decay_rate * 50\n"
      ],
      "metadata": {
        "id": "ofqsUHRFL4lS"
      },
      "execution_count": null,
      "outputs": []
    },
    {
      "cell_type": "code",
      "source": [
        "opt = keras.optimizers.Adam(\n",
        "    learning_rate=HP_initial_LR)"
      ],
      "metadata": {
        "id": "wYry7IgkM-uV"
      },
      "execution_count": null,
      "outputs": []
    },
    {
      "cell_type": "code",
      "source": [
        "(xtrain, ytrain), (xtest, ytest) = keras.datasets.imdb.load_data(\n",
        "    num_words = HP_vocab_size\n",
        ")"
      ],
      "metadata": {
        "id": "GKZP9SkRHpqs"
      },
      "execution_count": null,
      "outputs": []
    },
    {
      "cell_type": "code",
      "source": [
        "ytrain[0], ytrain[789]"
      ],
      "metadata": {
        "colab": {
          "base_uri": "https://localhost:8080/"
        },
        "id": "jd3MQnC6HzJ5",
        "outputId": "99bcf8aa-8cda-4ba6-d137-ae63d25780ff"
      },
      "execution_count": null,
      "outputs": [
        {
          "output_type": "execute_result",
          "data": {
            "text/plain": [
              "(1, 0)"
            ]
          },
          "metadata": {},
          "execution_count": 34
        }
      ]
    },
    {
      "cell_type": "code",
      "source": [
        "print(xtrain[0])"
      ],
      "metadata": {
        "colab": {
          "base_uri": "https://localhost:8080/"
        },
        "id": "EduYXoffH4OM",
        "outputId": "4835b379-7aa7-4ea3-9303-773caa067042"
      },
      "execution_count": null,
      "outputs": [
        {
          "output_type": "stream",
          "name": "stdout",
          "text": [
            "[1, 14, 22, 16, 43, 530, 973, 1622, 1385, 65, 458, 4468, 66, 3941, 4, 173, 36, 256, 5, 25, 100, 43, 838, 112, 50, 670, 2, 9, 35, 480, 284, 5, 150, 4, 172, 112, 167, 2, 336, 385, 39, 4, 172, 4536, 1111, 17, 546, 38, 13, 447, 4, 192, 50, 16, 6, 147, 2025, 19, 14, 22, 4, 1920, 4613, 469, 4, 22, 71, 87, 12, 16, 43, 530, 38, 76, 15, 13, 1247, 4, 22, 17, 515, 17, 12, 16, 626, 18, 2, 5, 62, 386, 12, 8, 316, 8, 106, 5, 4, 2223, 5244, 16, 480, 66, 3785, 33, 4, 130, 12, 16, 38, 619, 5, 25, 124, 51, 36, 135, 48, 25, 1415, 33, 6, 22, 12, 215, 28, 77, 52, 5, 14, 407, 16, 82, 2, 8, 4, 107, 117, 5952, 15, 256, 4, 2, 7, 3766, 5, 723, 36, 71, 43, 530, 476, 26, 400, 317, 46, 7, 4, 2, 1029, 13, 104, 88, 4, 381, 15, 297, 98, 32, 2071, 56, 26, 141, 6, 194, 7486, 18, 4, 226, 22, 21, 134, 476, 26, 480, 5, 144, 30, 5535, 18, 51, 36, 28, 224, 92, 25, 104, 4, 226, 65, 16, 38, 1334, 88, 12, 16, 283, 5, 16, 4472, 113, 103, 32, 15, 16, 5345, 19, 178, 32]\n"
          ]
        }
      ]
    },
    {
      "cell_type": "code",
      "source": [
        "vocab = alldata.get_word_index()"
      ],
      "metadata": {
        "id": "NNMGpytyIAyd"
      },
      "execution_count": null,
      "outputs": []
    },
    {
      "cell_type": "code",
      "source": [
        "rev_vocab = { v:k for k,v in vocab.items()}"
      ],
      "metadata": {
        "id": "MYf9hSp8IxUa"
      },
      "execution_count": null,
      "outputs": []
    },
    {
      "cell_type": "code",
      "source": [
        "def decoder(sentence):\n",
        "  words= [ rev_vocab[word]  for word in sentence]\n",
        "  full_sentence = \" \".join(words)\n",
        "  return full_sentence"
      ],
      "metadata": {
        "id": "mD0Ze918IzWx"
      },
      "execution_count": null,
      "outputs": []
    },
    {
      "cell_type": "code",
      "source": [
        "decoder(xtrain[90])"
      ],
      "metadata": {
        "colab": {
          "base_uri": "https://localhost:8080/",
          "height": 192
        },
        "id": "b15J4cxbQGWm",
        "outputId": "ac3d0a33-eaad-4243-cd48-aa2a35f50877"
      },
      "execution_count": null,
      "outputs": [
        {
          "output_type": "execute_result",
          "data": {
            "text/plain": [
              "\"the this enough premiere and better executed ability br and with his her and movie it stick politics i i was one is excellent cut this and only natural with lot br of how truly full this of want f br and pop and off that however of here br realistically and me will her points violent this and of 1 for from me in and of guy to simple or and this seen money pleasures sees hours is exciting and guy to sets shockingly and ability his is displays really me of truly and br and and with is quite touches in of i've been stick politics i i of she's it for of house geniuses for its great does it of complicated down roth cute dies are and are arrived really disaster and rented movie trite of thought group fun to big was can about previous are and to sentiment historical those are for top and with is word bath this of neil whether and to audience and with table and who private and yes br complicated sirk was let musicals was two that with and happen can't ok in out imagination i i they by my complicated other moore is am and place br of problem 1 and movie table and\""
            ],
            "application/vnd.google.colaboratory.intrinsic+json": {
              "type": "string"
            }
          },
          "metadata": {},
          "execution_count": 39
        }
      ]
    },
    {
      "cell_type": "code",
      "source": [
        "decoder(xtrain[2090])"
      ],
      "metadata": {
        "colab": {
          "base_uri": "https://localhost:8080/",
          "height": 192
        },
        "id": "zE9hpaQpQKkQ",
        "outputId": "fad6b244-fe6b-4aa7-d5d2-4b97987b4aa5"
      },
      "execution_count": null,
      "outputs": [
        {
          "output_type": "execute_result",
          "data": {
            "text/plain": [
              "\"the as on it has is time nowhere slack aspects idea like it jon in gadget is during doing and fascinated ways sets in targeted and and that mean floors rent psyche this of white almost to would end movie has movie much movie of guy grew was two and beau story one will is still moves not cartoon of complete heroes day on wrong from away against glorious about floors rent end few him this us nice not bad best also in can about used struggling of their it around straight in why of there's newspaper even focused is got to african close and there of forced michael almost all it of idea are of ways to other of did cut but floors rent and and there is again spend something movie of list work say like cat of mack 80s to thing two is found real gadget theaters as come it hear she unfortunately of you to burt in why it prove union floors rent thing maybe about ways i'm think and faster gimmicks would thing people last is forced gadget attempt people more it is makes hatred jim is timeless to his her screaming fred like and and this documentary in surely be props to 1 just tricks fascinated fred loy and that different just seeing me is very my minutes as you not of see now everything in can that it but floors rent psyche evil his for him so horrible not would there is detract sat version solid to is time and level\""
            ],
            "application/vnd.google.colaboratory.intrinsic+json": {
              "type": "string"
            }
          },
          "metadata": {},
          "execution_count": 40
        }
      ]
    },
    {
      "cell_type": "code",
      "source": [
        "# 0 <PAD>\n",
        "# 1 <START>\n",
        "# 2 <UNKNOWN>\n",
        "# 3 <UNUSED>\n",
        "rev_new_vocab = { }"
      ],
      "metadata": {
        "id": "-nwH3zvrQR_1"
      },
      "execution_count": null,
      "outputs": []
    },
    {
      "cell_type": "code",
      "source": [
        "#rev_vocab[1], rev_vocab[0]"
      ],
      "metadata": {
        "id": "4qL_v3VcR3Tu"
      },
      "execution_count": null,
      "outputs": []
    },
    {
      "cell_type": "code",
      "source": [
        "fixed_dict = { k:v+3 for k,v in vocab.items()}\n",
        "rev_fixed_vocab = { v:k for k,v in fixed_dict.items() }"
      ],
      "metadata": {
        "id": "XLw5JUuqR4Ga"
      },
      "execution_count": null,
      "outputs": []
    },
    {
      "cell_type": "code",
      "source": [
        "rev_fixed_vocab[41]"
      ],
      "metadata": {
        "colab": {
          "base_uri": "https://localhost:8080/",
          "height": 35
        },
        "id": "shcl2UWASsZB",
        "outputId": "95186f3b-870a-40b0-b6de-6eab1b8094a8"
      },
      "execution_count": null,
      "outputs": [
        {
          "output_type": "execute_result",
          "data": {
            "text/plain": [
              "'her'"
            ],
            "application/vnd.google.colaboratory.intrinsic+json": {
              "type": "string"
            }
          },
          "metadata": {},
          "execution_count": 44
        }
      ]
    },
    {
      "cell_type": "code",
      "source": [
        "rev_fixed_vocab[0] = \"<PAD>\"\n",
        "rev_fixed_vocab[1] = \"<START>\"\n",
        "rev_fixed_vocab[2] = \"<UNK>\"\n",
        "rev_fixed_vocab[3] = \"<UNUSED>\""
      ],
      "metadata": {
        "id": "pPM7xKp-TAs4"
      },
      "execution_count": null,
      "outputs": []
    },
    {
      "cell_type": "code",
      "source": [
        "def decoder(sentence):\n",
        "  words= [ rev_fixed_vocab[word]  for word in sentence]\n",
        "  full_sentence = \" \".join(words)\n",
        "  return full_sentence"
      ],
      "metadata": {
        "id": "VWOdg7CWT0PK"
      },
      "execution_count": null,
      "outputs": []
    },
    {
      "cell_type": "code",
      "source": [
        "decoder(xtrain[0])"
      ],
      "metadata": {
        "colab": {
          "base_uri": "https://localhost:8080/",
          "height": 192
        },
        "id": "JTq9l5CuT9FI",
        "outputId": "fae10f35-03d5-4437-a3b3-11ad68dba51b"
      },
      "execution_count": null,
      "outputs": [
        {
          "output_type": "execute_result",
          "data": {
            "text/plain": [
              "\"<START> this film was just brilliant casting location scenery story direction everyone's really suited the part they played and you could just imagine being there robert <UNK> is an amazing actor and now the same being director <UNK> father came from the same scottish island as myself so i loved the fact there was a real connection with this film the witty remarks throughout the film were great it was just brilliant so much that i bought the film as soon as it was released for <UNK> and would recommend it to everyone to watch and the fly fishing was amazing really cried at the end it was so sad and you know what they say if you cry at a film it must have been good and this definitely was also <UNK> to the two little boy's that played the <UNK> of norman and paul they were just brilliant children are often left out of the <UNK> list i think because the stars that play them all grown up are such a big profile for the whole film but these children are amazing and should be praised for what they have done don't you think the whole story was so lovely because it was true and was someone's life after all that was shared with us all\""
            ],
            "application/vnd.google.colaboratory.intrinsic+json": {
              "type": "string"
            }
          },
          "metadata": {},
          "execution_count": 47
        }
      ]
    },
    {
      "cell_type": "code",
      "source": [
        "ytrain[0]"
      ],
      "metadata": {
        "colab": {
          "base_uri": "https://localhost:8080/"
        },
        "id": "UVQMS5nWT-6r",
        "outputId": "735d431b-05e7-4f8f-8b77-e5453d891bdd"
      },
      "execution_count": null,
      "outputs": [
        {
          "output_type": "execute_result",
          "data": {
            "text/plain": [
              "1"
            ]
          },
          "metadata": {},
          "execution_count": 48
        }
      ]
    },
    {
      "cell_type": "code",
      "source": [
        "for i in range(10):\n",
        "  print(len(xtrain[i]))"
      ],
      "metadata": {
        "colab": {
          "base_uri": "https://localhost:8080/"
        },
        "id": "8aP_5fN5UEL_",
        "outputId": "48ab5db1-2021-496b-b953-01e1714dd7e5"
      },
      "execution_count": null,
      "outputs": [
        {
          "output_type": "stream",
          "name": "stdout",
          "text": [
            "218\n",
            "189\n",
            "141\n",
            "550\n",
            "147\n",
            "43\n",
            "123\n",
            "562\n",
            "233\n",
            "130\n"
          ]
        }
      ]
    },
    {
      "cell_type": "code",
      "source": [
        "xtrain_padded = keras.preprocessing.sequence.pad_sequences(\n",
        "    xtrain, maxlen = HP_maxlen, \n",
        "    truncating = 'post', padding = 'post'\n",
        ")"
      ],
      "metadata": {
        "id": "SJWo-UfFUa_r"
      },
      "execution_count": null,
      "outputs": []
    },
    {
      "cell_type": "code",
      "source": [
        "xtrain_padded[3]"
      ],
      "metadata": {
        "id": "LnqvEBlBVQhU"
      },
      "execution_count": null,
      "outputs": []
    },
    {
      "cell_type": "code",
      "source": [
        "xtrain_padded[5]"
      ],
      "metadata": {
        "id": "lPTilPKfVb8P"
      },
      "execution_count": null,
      "outputs": []
    },
    {
      "cell_type": "code",
      "source": [
        "for i in range(10):\n",
        "  print(len(xtrain_padded[i]), end=\" \")"
      ],
      "metadata": {
        "colab": {
          "base_uri": "https://localhost:8080/"
        },
        "id": "T8wsIRUlVm-4",
        "outputId": "86312d29-cc87-44bc-9369-0d00e759491c"
      },
      "execution_count": null,
      "outputs": [
        {
          "output_type": "stream",
          "name": "stdout",
          "text": [
            "256 256 256 256 256 256 256 256 256 256 "
          ]
        }
      ]
    },
    {
      "cell_type": "code",
      "source": [
        "import tensorflow as tf\n",
        "from keras.layers import Embedding, GlobalAvgPool1D\n",
        "from keras.layers import Dense\n",
        "m = keras.Sequential([\n",
        "        Embedding(10000, 32),\n",
        "        GlobalAvgPool1D(),\n",
        "        Dense(256, activation=tf.nn.relu),\n",
        "        Dense(512, activation=tf.nn.relu),\n",
        "        Dense(1, activation=tf.nn.sigmoid)\n",
        "])"
      ],
      "metadata": {
        "id": "UxQnzB3LVwIr"
      },
      "execution_count": null,
      "outputs": []
    },
    {
      "cell_type": "code",
      "source": [
        "m.summary()"
      ],
      "metadata": {
        "colab": {
          "base_uri": "https://localhost:8080/"
        },
        "id": "wt1GD-WjL2-M",
        "outputId": "a3d4b2ae-c848-40c5-ed9d-dcab99cdcb21"
      },
      "execution_count": null,
      "outputs": [
        {
          "output_type": "stream",
          "name": "stdout",
          "text": [
            "Model: \"sequential_2\"\n",
            "_________________________________________________________________\n",
            " Layer (type)                Output Shape              Param #   \n",
            "=================================================================\n",
            " embedding_3 (Embedding)     (None, None, 32)          320000    \n",
            "                                                                 \n",
            " global_average_pooling1d_3   (None, 32)               0         \n",
            " (GlobalAveragePooling1D)                                        \n",
            "                                                                 \n",
            " dense_6 (Dense)             (None, 256)               8448      \n",
            "                                                                 \n",
            " dense_7 (Dense)             (None, 512)               131584    \n",
            "                                                                 \n",
            " dense_8 (Dense)             (None, 1)                 513       \n",
            "                                                                 \n",
            "=================================================================\n",
            "Total params: 460,545\n",
            "Trainable params: 460,545\n",
            "Non-trainable params: 0\n",
            "_________________________________________________________________\n"
          ]
        }
      ]
    },
    {
      "cell_type": "code",
      "source": [
        "m.compile(loss = 'binary_crossentropy',\n",
        "          optimizer='adam')"
      ],
      "metadata": {
        "id": "zeYxHUopMEwY"
      },
      "execution_count": null,
      "outputs": []
    },
    {
      "cell_type": "code",
      "source": [
        "m.fit(xtrain_padded, ytrain, epochs=20)"
      ],
      "metadata": {
        "colab": {
          "base_uri": "https://localhost:8080/"
        },
        "id": "D1b4j5QZO_O6",
        "outputId": "d3b6a171-d80a-4acf-b9ce-e9a0e509b5ca"
      },
      "execution_count": null,
      "outputs": [
        {
          "output_type": "stream",
          "name": "stdout",
          "text": [
            "Epoch 1/20\n",
            "782/782 [==============================] - 12s 13ms/step - loss: 0.3889\n",
            "Epoch 2/20\n",
            "782/782 [==============================] - 10s 13ms/step - loss: 0.2218\n",
            "Epoch 3/20\n",
            "782/782 [==============================] - 10s 13ms/step - loss: 0.1805\n",
            "Epoch 4/20\n",
            "782/782 [==============================] - 10s 13ms/step - loss: 0.1488\n",
            "Epoch 5/20\n",
            "782/782 [==============================] - 10s 13ms/step - loss: 0.1223\n",
            "Epoch 6/20\n",
            "782/782 [==============================] - 11s 14ms/step - loss: 0.0952\n",
            "Epoch 7/20\n",
            "782/782 [==============================] - 10s 13ms/step - loss: 0.0755\n",
            "Epoch 8/20\n",
            "782/782 [==============================] - 10s 13ms/step - loss: 0.0684\n",
            "Epoch 9/20\n",
            "782/782 [==============================] - 12s 15ms/step - loss: 0.0508\n",
            "Epoch 10/20\n",
            "782/782 [==============================] - 11s 14ms/step - loss: 0.0420\n",
            "Epoch 11/20\n",
            "782/782 [==============================] - 10s 13ms/step - loss: 0.0375\n",
            "Epoch 12/20\n",
            "782/782 [==============================] - 10s 13ms/step - loss: 0.0265\n",
            "Epoch 13/20\n",
            "782/782 [==============================] - 10s 13ms/step - loss: 0.0257\n",
            "Epoch 14/20\n",
            "782/782 [==============================] - 11s 13ms/step - loss: 0.0170\n",
            "Epoch 15/20\n",
            "782/782 [==============================] - 11s 14ms/step - loss: 0.0198\n",
            "Epoch 16/20\n",
            "782/782 [==============================] - 10s 13ms/step - loss: 0.0206\n",
            "Epoch 17/20\n",
            "782/782 [==============================] - 10s 13ms/step - loss: 0.0172\n",
            "Epoch 18/20\n",
            "782/782 [==============================] - 11s 14ms/step - loss: 0.0149\n",
            "Epoch 19/20\n",
            "782/782 [==============================] - 10s 13ms/step - loss: 0.0159\n",
            "Epoch 20/20\n",
            "782/782 [==============================] - 10s 13ms/step - loss: 0.0112\n"
          ]
        },
        {
          "output_type": "execute_result",
          "data": {
            "text/plain": [
              "<keras.callbacks.History at 0x7f039ca8cb90>"
            ]
          },
          "metadata": {},
          "execution_count": 61
        }
      ]
    },
    {
      "cell_type": "code",
      "source": [
        "xtest_padded = keras.preprocessing.sequence.pad_sequences(\n",
        "    xtest, padding='post', truncating='post'\n",
        ")\n",
        "p = m.predict(xtest_padded)"
      ],
      "metadata": {
        "id": "W1hQmfiXPByV"
      },
      "execution_count": null,
      "outputs": []
    },
    {
      "cell_type": "code",
      "source": [
        "p[:5]\n",
        "mapping_logic = lambda x: 1 if x>0.75 else 0\n",
        "predictions = [mapping_logic(pred) for pred in p]"
      ],
      "metadata": {
        "id": "ql5PWT5bSKI0"
      },
      "execution_count": null,
      "outputs": []
    },
    {
      "cell_type": "code",
      "source": [
        "ytest[:5]"
      ],
      "metadata": {
        "colab": {
          "base_uri": "https://localhost:8080/"
        },
        "id": "eymHLrhrSQyq",
        "outputId": "aa9ea679-6045-4c95-b699-802bb36c391e"
      },
      "execution_count": null,
      "outputs": [
        {
          "output_type": "execute_result",
          "data": {
            "text/plain": [
              "array([0, 1, 1, 0, 1])"
            ]
          },
          "metadata": {},
          "execution_count": 79
        }
      ]
    },
    {
      "cell_type": "code",
      "source": [
        "from sklearn.metrics import accuracy_score"
      ],
      "metadata": {
        "id": "_iMuGsUySVVO"
      },
      "execution_count": null,
      "outputs": []
    },
    {
      "cell_type": "code",
      "source": [
        "accuracy_score(predictions, ytest)"
      ],
      "metadata": {
        "colab": {
          "base_uri": "https://localhost:8080/"
        },
        "id": "TDy8zkI4Sa3d",
        "outputId": "1cabb41f-94a9-407c-ee76-164b70d1d2b2"
      },
      "execution_count": null,
      "outputs": [
        {
          "output_type": "execute_result",
          "data": {
            "text/plain": [
              "0.79148"
            ]
          },
          "metadata": {},
          "execution_count": 81
        }
      ]
    },
    {
      "cell_type": "code",
      "source": [
        "m.save('blah.h5')"
      ],
      "metadata": {
        "id": "IZn7Uy4YTCXW"
      },
      "execution_count": null,
      "outputs": []
    },
    {
      "cell_type": "code",
      "source": [
        "import tensorflow as tf\n",
        "tf.__version__"
      ],
      "metadata": {
        "colab": {
          "base_uri": "https://localhost:8080/",
          "height": 35
        },
        "id": "Skhd_5_NTvDg",
        "outputId": "74fe63ca-82ed-442b-e8ba-49987d794db7"
      },
      "execution_count": null,
      "outputs": [
        {
          "output_type": "execute_result",
          "data": {
            "text/plain": [
              "'2.8.2'"
            ],
            "application/vnd.google.colaboratory.intrinsic+json": {
              "type": "string"
            }
          },
          "metadata": {},
          "execution_count": 2
        }
      ]
    },
    {
      "cell_type": "code",
      "source": [],
      "metadata": {
        "id": "AezeQuckktAB"
      },
      "execution_count": null,
      "outputs": []
    }
  ]
}