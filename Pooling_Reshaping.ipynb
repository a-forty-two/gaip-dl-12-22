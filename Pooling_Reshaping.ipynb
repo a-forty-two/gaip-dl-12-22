{
  "nbformat": 4,
  "nbformat_minor": 0,
  "metadata": {
    "colab": {
      "provenance": []
    },
    "kernelspec": {
      "name": "python3",
      "display_name": "Python 3"
    }
  },
  "cells": [
    {
      "cell_type": "code",
      "metadata": {
        "colab": {
          "base_uri": "https://localhost:8080/"
        },
        "id": "h8gB0LMkwRg1",
        "outputId": "ca4fa72a-78ed-41e5-e5ce-af3d7a5e94d4"
      },
      "source": [
        "\n",
        "import tensorflow as tf\n",
        "import numpy as np\n",
        "print(tf.__version__)"
      ],
      "execution_count": 8,
      "outputs": [
        {
          "output_type": "stream",
          "name": "stdout",
          "text": [
            "2.9.2\n"
          ]
        }
      ]
    },
    {
      "cell_type": "code",
      "metadata": {
        "id": "sH6nPiGXwvla"
      },
      "source": [
        "temp = [ 0., 0., 1., 0., 0.,2., 1., 1., 0., 0.]\n",
        "values = tf.reshape(temp, [1,1,2,5])\n",
        "# final 5 elements -> 2 lists-> 1 list -> 1 list"
      ],
      "execution_count": 2,
      "outputs": []
    },
    {
      "cell_type": "code",
      "metadata": {
        "colab": {
          "base_uri": "https://localhost:8080/"
        },
        "id": "c-Nh5Q48xljP",
        "outputId": "466b6b8c-9b1e-4e58-9214-628363c3dfc8"
      },
      "source": [
        "values\n",
        "# LAZY evaluation\n",
        "# TF-> complete picture only, then execution within a TF session"
      ],
      "execution_count": 3,
      "outputs": [
        {
          "output_type": "execute_result",
          "data": {
            "text/plain": [
              "<tf.Tensor: shape=(1, 1, 2, 5), dtype=float32, numpy=\n",
              "array([[[[0., 0., 1., 0., 0.],\n",
              "         [2., 1., 1., 0., 0.]]]], dtype=float32)>"
            ]
          },
          "metadata": {},
          "execution_count": 3
        }
      ]
    },
    {
      "cell_type": "markdown",
      "metadata": {
        "id": "VQKGltY6yVDH"
      },
      "source": [
        "Lazy v/s Eager Evaluation\n",
        "\n",
        "ops. --------  Lazy.-----  Eager. \n",
        "\n",
        "a=1 ----------- OK -------- 1\n",
        "\n",
        "b=2 ----------- OK ------- 2\n",
        "\n",
        "c= a + b ------ OK ------- 3\n",
        "\n",
        "print(c) ------ EXECUTE()->\"3\" -------- \"3\"\n"
      ]
    },
    {
      "cell_type": "code",
      "metadata": {
        "id": "uTvrjty6zGjk"
      },
      "source": [
        "avgpool = tf.nn.pool(input=values, window_shape=(1,2), \n",
        "                     pooling_type='AVG', padding='VALID')\n",
        "maxpool = tf.nn.pool(input=values, window_shape=(1,2), \n",
        "                     pooling_type='MAX', padding='VALID')"
      ],
      "execution_count": 5,
      "outputs": []
    },
    {
      "cell_type": "code",
      "metadata": {
        "colab": {
          "base_uri": "https://localhost:8080/"
        },
        "id": "EdIXniug01Pm",
        "outputId": "c3c860dd-fc6c-40c4-98a1-85182d1e723a"
      },
      "source": [
        "avgpool"
      ],
      "execution_count": 6,
      "outputs": [
        {
          "output_type": "execute_result",
          "data": {
            "text/plain": [
              "<tf.Tensor: shape=(1, 1, 1, 5), dtype=float32, numpy=array([[[[1. , 0.5, 1. , 0. , 0. ]]]], dtype=float32)>"
            ]
          },
          "metadata": {},
          "execution_count": 6
        }
      ]
    },
    {
      "cell_type": "code",
      "source": [
        "maxpool"
      ],
      "metadata": {
        "colab": {
          "base_uri": "https://localhost:8080/"
        },
        "id": "tqZp3nuBZupy",
        "outputId": "caf17c76-e266-4bf7-e645-2e2ac5a1b86c"
      },
      "execution_count": 7,
      "outputs": [
        {
          "output_type": "execute_result",
          "data": {
            "text/plain": [
              "<tf.Tensor: shape=(1, 1, 1, 5), dtype=float32, numpy=array([[[[2., 1., 1., 0., 0.]]]], dtype=float32)>"
            ]
          },
          "metadata": {},
          "execution_count": 7
        }
      ]
    },
    {
      "cell_type": "code",
      "metadata": {
        "id": "vlbProoe2vIS"
      },
      "source": [],
      "execution_count": null,
      "outputs": []
    }
  ]
}