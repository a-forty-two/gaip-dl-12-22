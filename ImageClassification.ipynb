{
 "cells": [
  {
   "cell_type": "code",
   "execution_count": 1,
   "id": "2b8b4870-7301-48bb-acf1-cc768103487b",
   "metadata": {},
   "outputs": [
    {
     "name": "stderr",
     "output_type": "stream",
     "text": [
      "2022-12-27 01:39:07.658994: I tensorflow/core/platform/cpu_feature_guard.cc:193] This TensorFlow binary is optimized with oneAPI Deep Neural Network Library (oneDNN) to use the following CPU instructions in performance-critical operations:  AVX2 AVX512F FMA\n",
      "To enable them in other operations, rebuild TensorFlow with the appropriate compiler flags.\n",
      "2022-12-27 01:39:07.826235: E tensorflow/stream_executor/cuda/cuda_blas.cc:2981] Unable to register cuBLAS factory: Attempting to register factory for plugin cuBLAS when one has already been registered\n",
      "2022-12-27 01:39:08.611122: W tensorflow/stream_executor/platform/default/dso_loader.cc:64] Could not load dynamic library 'libnvinfer.so.7'; dlerror: libnvinfer.so.7: cannot open shared object file: No such file or directory\n",
      "2022-12-27 01:39:08.611202: W tensorflow/stream_executor/platform/default/dso_loader.cc:64] Could not load dynamic library 'libnvinfer_plugin.so.7'; dlerror: libnvinfer_plugin.so.7: cannot open shared object file: No such file or directory\n",
      "2022-12-27 01:39:08.611211: W tensorflow/compiler/tf2tensorrt/utils/py_utils.cc:38] TF-TRT Warning: Cannot dlopen some TensorRT libraries. If you would like to use Nvidia GPU with TensorRT, please make sure the missing libraries mentioned above are installed properly.\n"
     ]
    },
    {
     "data": {
      "text/plain": [
       "'2.10.0'"
      ]
     },
     "execution_count": 1,
     "metadata": {},
     "output_type": "execute_result"
    }
   ],
   "source": [
    "import tensorflow as tf\n",
    "from tensorflow import keras\n",
    "tf.__version__"
   ]
  },
  {
   "cell_type": "code",
   "execution_count": 2,
   "id": "e5c19670-7685-467f-b37f-2733c944f8f1",
   "metadata": {},
   "outputs": [],
   "source": [
    "datasets = keras.datasets"
   ]
  },
  {
   "cell_type": "code",
   "execution_count": 3,
   "id": "94d84e89-9c68-4546-8a5e-76a49f4e416e",
   "metadata": {},
   "outputs": [
    {
     "name": "stdout",
     "output_type": "stream",
     "text": [
      "['__builtins__', '__cached__', '__doc__', '__file__', '__loader__', '__name__', '__package__', '__path__', '__spec__', '_sys', 'boston_housing', 'cifar10', 'cifar100', 'fashion_mnist', 'imdb', 'mnist', 'reuters']\n"
     ]
    }
   ],
   "source": [
    "print(dir(datasets))"
   ]
  },
  {
   "cell_type": "code",
   "execution_count": 4,
   "id": "35aff851-ba55-4731-bf2d-96cbe4f2fcc8",
   "metadata": {},
   "outputs": [],
   "source": [
    "mydata = datasets.fashion_mnist"
   ]
  },
  {
   "cell_type": "code",
   "execution_count": 5,
   "id": "d4f5b15c-6f42-4cd8-bd82-31a443a0ed8a",
   "metadata": {},
   "outputs": [
    {
     "name": "stdout",
     "output_type": "stream",
     "text": [
      "['__builtins__', '__cached__', '__doc__', '__file__', '__loader__', '__name__', '__package__', '__path__', '__spec__', '_sys', 'load_data']\n"
     ]
    }
   ],
   "source": [
    "print(dir(mydata))"
   ]
  },
  {
   "cell_type": "code",
   "execution_count": 6,
   "id": "90f044ff-e8b7-4d69-b6ac-d5d7052eebfd",
   "metadata": {},
   "outputs": [],
   "source": [
    "data = mydata.load_data()"
   ]
  },
  {
   "cell_type": "code",
   "execution_count": 7,
   "id": "75caf577-c124-4a65-b053-b2d3f3f95318",
   "metadata": {},
   "outputs": [
    {
     "data": {
      "text/plain": [
       "2"
      ]
     },
     "execution_count": 7,
     "metadata": {},
     "output_type": "execute_result"
    }
   ],
   "source": [
    "len(data)"
   ]
  },
  {
   "cell_type": "code",
   "execution_count": 8,
   "id": "0f4531fe-841f-4252-aa99-65b8e4aa3314",
   "metadata": {},
   "outputs": [
    {
     "data": {
      "text/plain": [
       "2"
      ]
     },
     "execution_count": 8,
     "metadata": {},
     "output_type": "execute_result"
    }
   ],
   "source": [
    "len(data[1])"
   ]
  },
  {
   "cell_type": "code",
   "execution_count": 9,
   "id": "4e279ae4-3cfc-439e-9d35-7d5e713a9666",
   "metadata": {},
   "outputs": [
    {
     "data": {
      "text/plain": [
       "(60000, 60000, 10000, 10000)"
      ]
     },
     "execution_count": 9,
     "metadata": {},
     "output_type": "execute_result"
    }
   ],
   "source": [
    "len(data[0][0]), len(data[0][1]), len(data[1][0]), len(data[1][1])"
   ]
  },
  {
   "cell_type": "code",
   "execution_count": 10,
   "id": "49eca8f9-c5cb-41c5-86dc-192ea664e874",
   "metadata": {},
   "outputs": [],
   "source": [
    "(xtrain, ytrain), (xtest, ytest) = data"
   ]
  },
  {
   "cell_type": "code",
   "execution_count": 11,
   "id": "615e012d-fdd8-44aa-9c26-0334943a4f89",
   "metadata": {},
   "outputs": [
    {
     "data": {
      "text/plain": [
       "<matplotlib.image.AxesImage at 0x7f3f16e8b850>"
      ]
     },
     "execution_count": 11,
     "metadata": {},
     "output_type": "execute_result"
    },
    {
     "data": {
      "image/png": "[encoded data removed]",
      "text/plain": [
       "<Figure size 432x288 with 1 Axes>"
      ]
     },
     "metadata": {
      "needs_background": "light"
     },
     "output_type": "display_data"
    }
   ],
   "source": [
    "import matplotlib.pyplot as plt\n",
    "plt.figure()\n",
    "plt.imshow(xtrain[0])\n"
   ]
  },
  {
   "cell_type": "code",
   "execution_count": 12,
   "id": "2c0591a6-c403-4823-99cc-7a638e87eaf8",
   "metadata": {},
   "outputs": [
    {
     "data": {
      "text/plain": [
       "array([[  0,   0,   0,   0,   0,   0,   0,   0,   0,   0,   0,   0,   0,\n",
       "          0,   0,   0,   0,   0,   0,   0,   0,   0,   0,   0,   0,   0,\n",
       "          0,   0],\n",
       "       [  0,   0,   0,   0,   0,   0,   0,   0,   0,   0,   0,   0,   0,\n",
       "          0,   0,   0,   0,   0,   0,   0,   0,   0,   0,   0,   0,   0,\n",
       "          0,   0],\n",
       "       [  0,   0,   0,   0,   0,   0,   0,   0,   0,   0,   0,   0,   0,\n",
       "          0,   0,   0,   0,   0,   0,   0,   0,   0,   0,   0,   0,   0,\n",
       "          0,   0],\n",
       "       [  0,   0,   0,   0,   0,   0,   0,   0,   0,   0,   0,   0,   1,\n",
       "          0,   0,  13,  73,   0,   0,   1,   4,   0,   0,   0,   0,   1,\n",
       "          1,   0],\n",
       "       [  0,   0,   0,   0,   0,   0,   0,   0,   0,   0,   0,   0,   3,\n",
       "          0,  36, 136, 127,  62,  54,   0,   0,   0,   1,   3,   4,   0,\n",
       "          0,   3],\n",
       "       [  0,   0,   0,   0,   0,   0,   0,   0,   0,   0,   0,   0,   6,\n",
       "          0, 102, 204, 176, 134, 144, 123,  23,   0,   0,   0,   0,  12,\n",
       "         10,   0],\n",
       "       [  0,   0,   0,   0,   0,   0,   0,   0,   0,   0,   0,   0,   0,\n",
       "          0, 155, 236, 207, 178, 107, 156, 161, 109,  64,  23,  77, 130,\n",
       "         72,  15],\n",
       "       [  0,   0,   0,   0,   0,   0,   0,   0,   0,   0,   0,   1,   0,\n",
       "         69, 207, 223, 218, 216, 216, 163, 127, 121, 122, 146, 141,  88,\n",
       "        172,  66],\n",
       "       [  0,   0,   0,   0,   0,   0,   0,   0,   0,   1,   1,   1,   0,\n",
       "        200, 232, 232, 233, 229, 223, 223, 215, 213, 164, 127, 123, 196,\n",
       "        229,   0],\n",
       "       [  0,   0,   0,   0,   0,   0,   0,   0,   0,   0,   0,   0,   0,\n",
       "        183, 225, 216, 223, 228, 235, 227, 224, 222, 224, 221, 223, 245,\n",
       "        173,   0],\n",
       "       [  0,   0,   0,   0,   0,   0,   0,   0,   0,   0,   0,   0,   0,\n",
       "        193, 228, 218, 213, 198, 180, 212, 210, 211, 213, 223, 220, 243,\n",
       "        202,   0],\n",
       "       [  0,   0,   0,   0,   0,   0,   0,   0,   0,   1,   3,   0,  12,\n",
       "        219, 220, 212, 218, 192, 169, 227, 208, 218, 224, 212, 226, 197,\n",
       "        209,  52],\n",
       "       [  0,   0,   0,   0,   0,   0,   0,   0,   0,   0,   6,   0,  99,\n",
       "        244, 222, 220, 218, 203, 198, 221, 215, 213, 222, 220, 245, 119,\n",
       "        167,  56],\n",
       "       [  0,   0,   0,   0,   0,   0,   0,   0,   0,   4,   0,   0,  55,\n",
       "        236, 228, 230, 228, 240, 232, 213, 218, 223, 234, 217, 217, 209,\n",
       "         92,   0],\n",
       "       [  0,   0,   1,   4,   6,   7,   2,   0,   0,   0,   0,   0, 237,\n",
       "        226, 217, 223, 222, 219, 222, 221, 216, 223, 229, 215, 218, 255,\n",
       "         77,   0],\n",
       "       [  0,   3,   0,   0,   0,   0,   0,   0,   0,  62, 145, 204, 228,\n",
       "        207, 213, 221, 218, 208, 211, 218, 224, 223, 219, 215, 224, 244,\n",
       "        159,   0],\n",
       "       [  0,   0,   0,   0,  18,  44,  82, 107, 189, 228, 220, 222, 217,\n",
       "        226, 200, 205, 211, 230, 224, 234, 176, 188, 250, 248, 233, 238,\n",
       "        215,   0],\n",
       "       [  0,  57, 187, 208, 224, 221, 224, 208, 204, 214, 208, 209, 200,\n",
       "        159, 245, 193, 206, 223, 255, 255, 221, 234, 221, 211, 220, 232,\n",
       "        246,   0],\n",
       "       [  3, 202, 228, 224, 221, 211, 211, 214, 205, 205, 205, 220, 240,\n",
       "         80, 150, 255, 229, 221, 188, 154, 191, 210, 204, 209, 222, 228,\n",
       "        225,   0],\n",
       "       [ 98, 233, 198, 210, 222, 229, 229, 234, 249, 220, 194, 215, 217,\n",
       "        241,  65,  73, 106, 117, 168, 219, 221, 215, 217, 223, 223, 224,\n",
       "        229,  29],\n",
       "       [ 75, 204, 212, 204, 193, 205, 211, 225, 216, 185, 197, 206, 198,\n",
       "        213, 240, 195, 227, 245, 239, 223, 218, 212, 209, 222, 220, 221,\n",
       "        230,  67],\n",
       "       [ 48, 203, 183, 194, 213, 197, 185, 190, 194, 192, 202, 214, 219,\n",
       "        221, 220, 236, 225, 216, 199, 206, 186, 181, 177, 172, 181, 205,\n",
       "        206, 115],\n",
       "       [  0, 122, 219, 193, 179, 171, 183, 196, 204, 210, 213, 207, 211,\n",
       "        210, 200, 196, 194, 191, 195, 191, 198, 192, 176, 156, 167, 177,\n",
       "        210,  92],\n",
       "       [  0,   0,  74, 189, 212, 191, 175, 172, 175, 181, 185, 188, 189,\n",
       "        188, 193, 198, 204, 209, 210, 210, 211, 188, 188, 194, 192, 216,\n",
       "        170,   0],\n",
       "       [  2,   0,   0,   0,  66, 200, 222, 237, 239, 242, 246, 243, 244,\n",
       "        221, 220, 193, 191, 179, 182, 182, 181, 176, 166, 168,  99,  58,\n",
       "          0,   0],\n",
       "       [  0,   0,   0,   0,   0,   0,   0,  40,  61,  44,  72,  41,  35,\n",
       "          0,   0,   0,   0,   0,   0,   0,   0,   0,   0,   0,   0,   0,\n",
       "          0,   0],\n",
       "       [  0,   0,   0,   0,   0,   0,   0,   0,   0,   0,   0,   0,   0,\n",
       "          0,   0,   0,   0,   0,   0,   0,   0,   0,   0,   0,   0,   0,\n",
       "          0,   0],\n",
       "       [  0,   0,   0,   0,   0,   0,   0,   0,   0,   0,   0,   0,   0,\n",
       "          0,   0,   0,   0,   0,   0,   0,   0,   0,   0,   0,   0,   0,\n",
       "          0,   0]], dtype=uint8)"
      ]
     },
     "execution_count": 12,
     "metadata": {},
     "output_type": "execute_result"
    }
   ],
   "source": [
    "xtrain[0]"
   ]
  },
  {
   "cell_type": "code",
   "execution_count": 13,
   "id": "fea620fa-8f04-4533-94bb-6280d84e30be",
   "metadata": {},
   "outputs": [
    {
     "data": {
      "text/plain": [
       "(0, 255)"
      ]
     },
     "execution_count": 13,
     "metadata": {},
     "output_type": "execute_result"
    }
   ],
   "source": [
    "xtrain[0].min(), xtrain[0].max()"
   ]
  },
  {
   "cell_type": "code",
   "execution_count": 14,
   "id": "2b6216a1-cd43-47d9-89ef-92b24a3e43c1",
   "metadata": {},
   "outputs": [],
   "source": [
    "xtrain = xtrain/255.0\n",
    "xtest = xtest/ 255.0"
   ]
  },
  {
   "cell_type": "code",
   "execution_count": 15,
   "id": "bdc86e51-9d05-426d-adf3-bf77538c90eb",
   "metadata": {},
   "outputs": [
    {
     "data": {
      "text/plain": [
       "<matplotlib.image.AxesImage at 0x7f3efcac4ac0>"
      ]
     },
     "execution_count": 15,
     "metadata": {},
     "output_type": "execute_result"
    },
    {
     "data": {
      "image/png": "[encoded data removed]",
      "text/plain": [
       "<Figure size 432x288 with 1 Axes>"
      ]
     },
     "metadata": {
      "needs_background": "light"
     },
     "output_type": "display_data"
    }
   ],
   "source": [
    "plt.figure()\n",
    "plt.imshow(xtrain[0], cmap='gray')"
   ]
  },
  {
   "cell_type": "code",
   "execution_count": 16,
   "id": "1d18420e-2e32-4d09-8582-6d888e028dc8",
   "metadata": {},
   "outputs": [
    {
     "data": {
      "text/plain": [
       "['Ankle boot',\n",
       " 'T-shirt/top',\n",
       " 'T-shirt/top',\n",
       " 'Dress',\n",
       " 'T-shirt/top',\n",
       " 'Pullover',\n",
       " 'Sneaker',\n",
       " 'Pullover',\n",
       " 'Sandal',\n",
       " 'Sandal']"
      ]
     },
     "execution_count": 16,
     "metadata": {},
     "output_type": "execute_result"
    }
   ],
   "source": [
    "class_names = ['T-shirt/top', 'Trouser', 'Pullover', 'Dress', 'Coat',\n",
    "               'Sandal', 'Shirt', 'Sneaker', 'Bag', 'Ankle boot']\n",
    "[ class_names[i] for i in ytrain[:10] ]"
   ]
  },
  {
   "cell_type": "code",
   "execution_count": null,
   "id": "031765c9-87e4-48d6-accb-68174e11996d",
   "metadata": {},
   "outputs": [],
   "source": []
  },
  {
   "cell_type": "code",
   "execution_count": 17,
   "id": "59e3c8ed-5666-43c7-8902-1fe67371d0c3",
   "metadata": {},
   "outputs": [
    {
     "name": "stdout",
     "output_type": "stream",
     "text": [
      "Ankle boot\n"
     ]
    }
   ],
   "source": [
    "print(class_names[ytrain[0]])"
   ]
  },
  {
   "cell_type": "code",
   "execution_count": 18,
   "id": "9e8c736e-1800-40d8-bec0-5a55793aebc1",
   "metadata": {},
   "outputs": [
    {
     "data": {
      "text/plain": [
       "(28, 28)"
      ]
     },
     "execution_count": 18,
     "metadata": {},
     "output_type": "execute_result"
    }
   ],
   "source": [
    "xtrain[0].shape"
   ]
  },
  {
   "cell_type": "code",
   "execution_count": 19,
   "id": "006f4694-9755-484c-a0a2-bcb245a76ee7",
   "metadata": {},
   "outputs": [],
   "source": [
    "from tensorflow.keras.layers import Dense, Flatten"
   ]
  },
  {
   "cell_type": "code",
   "execution_count": 20,
   "id": "beceed98-33ca-43de-8bfb-04b3a4b51eee",
   "metadata": {},
   "outputs": [],
   "source": [
    "d_in = Flatten(input_shape=(28,28))\n",
    "d_h1 = Dense(1024)\n",
    "d_out = Dense(10)"
   ]
  },
  {
   "cell_type": "code",
   "execution_count": 21,
   "id": "5784541f-3bd0-4a9c-b3e9-fbc39bf739d1",
   "metadata": {},
   "outputs": [
    {
     "name": "stderr",
     "output_type": "stream",
     "text": [
      "2022-12-27 01:39:11.085285: E tensorflow/stream_executor/cuda/cuda_driver.cc:265] failed call to cuInit: CUDA_ERROR_NO_DEVICE: no CUDA-capable device is detected\n",
      "2022-12-27 01:39:11.085352: I tensorflow/stream_executor/cuda/cuda_diagnostics.cc:156] kernel driver does not appear to be running on this host (shantanu1): /proc/driver/nvidia/version does not exist\n",
      "2022-12-27 01:39:11.086640: I tensorflow/core/platform/cpu_feature_guard.cc:193] This TensorFlow binary is optimized with oneAPI Deep Neural Network Library (oneDNN) to use the following CPU instructions in performance-critical operations:  AVX2 AVX512F FMA\n",
      "To enable them in other operations, rebuild TensorFlow with the appropriate compiler flags.\n"
     ]
    }
   ],
   "source": [
    "m1 = keras.Sequential([d_in, d_h1, d_out])"
   ]
  },
  {
   "cell_type": "code",
   "execution_count": 22,
   "id": "c8f8fae6-3201-49cf-8ade-4c130f8fefcb",
   "metadata": {},
   "outputs": [
    {
     "name": "stderr",
     "output_type": "stream",
     "text": [
      "/anaconda/envs/azureml_py38_PT_TF/lib/python3.8/site-packages/keras/optimizers/optimizer_v2/adam.py:114: UserWarning: The `lr` argument is deprecated, use `learning_rate` instead.\n",
      "  super().__init__(name, **kwargs)\n"
     ]
    }
   ],
   "source": [
    "lossFN = 'sparse_categorical_crossentropy'\n",
    "optimizerFN = keras.optimizers.Adam(lr=0.001)"
   ]
  },
  {
   "cell_type": "code",
   "execution_count": 23,
   "id": "5c11b6d9-c787-4986-a518-a8eaa71c35c2",
   "metadata": {},
   "outputs": [],
   "source": [
    "m1.compile(loss=lossFN, optimizer=optimizerFN)"
   ]
  },
  {
   "cell_type": "code",
   "execution_count": 24,
   "id": "b8bc3b6b-42fe-4f09-b300-bbbf50eddb5a",
   "metadata": {
    "tags": []
   },
   "outputs": [
    {
     "name": "stdout",
     "output_type": "stream",
     "text": [
      "Model: \"sequential\"\n",
      "_________________________________________________________________\n",
      " Layer (type)                Output Shape              Param #   \n",
      "=================================================================\n",
      " flatten (Flatten)           (None, 784)               0         \n",
      "                                                                 \n",
      " dense (Dense)               (None, 1024)              803840    \n",
      "                                                                 \n",
      " dense_1 (Dense)             (None, 10)                10250     \n",
      "                                                                 \n",
      "=================================================================\n",
      "Total params: 814,090\n",
      "Trainable params: 814,090\n",
      "Non-trainable params: 0\n",
      "_________________________________________________________________\n"
     ]
    }
   ],
   "source": [
    "m1.summary()"
   ]
  },
  {
   "cell_type": "code",
   "execution_count": 25,
   "id": "116f49a1-ab95-4601-9fad-a1b0de2eb796",
   "metadata": {},
   "outputs": [
    {
     "name": "stdout",
     "output_type": "stream",
     "text": [
      "Epoch 1/50\n",
      "469/469 [==============================] - 2s 3ms/step - loss: 4.9772\n",
      "Epoch 2/50\n",
      "469/469 [==============================] - 1s 3ms/step - loss: 4.8153\n",
      "Epoch 3/50\n",
      "469/469 [==============================] - 1s 3ms/step - loss: 4.9600\n",
      "Epoch 4/50\n",
      "469/469 [==============================] - 1s 3ms/step - loss: 4.0121\n",
      "Epoch 5/50\n",
      "469/469 [==============================] - 1s 3ms/step - loss: 2.4351\n",
      "Epoch 6/50\n",
      "469/469 [==============================] - 1s 3ms/step - loss: 2.3011\n",
      "Epoch 7/50\n",
      "469/469 [==============================] - 1s 3ms/step - loss: 2.3010\n",
      "Epoch 8/50\n",
      "469/469 [==============================] - 1s 3ms/step - loss: 2.3008\n",
      "Epoch 9/50\n",
      "469/469 [==============================] - 1s 3ms/step - loss: 2.3008\n",
      "Epoch 10/50\n",
      "469/469 [==============================] - 1s 3ms/step - loss: 2.3005\n",
      "Epoch 11/50\n",
      "469/469 [==============================] - 1s 3ms/step - loss: 2.3005\n",
      "Epoch 12/50\n",
      "469/469 [==============================] - 1s 3ms/step - loss: 2.3005\n",
      "Epoch 13/50\n",
      "469/469 [==============================] - 1s 3ms/step - loss: 2.3005\n",
      "Epoch 14/50\n",
      "469/469 [==============================] - 1s 3ms/step - loss: 2.2989\n",
      "Epoch 15/50\n",
      "469/469 [==============================] - 1s 3ms/step - loss: 2.3013\n",
      "Epoch 16/50\n",
      "469/469 [==============================] - 1s 3ms/step - loss: 2.3022\n",
      "Epoch 17/50\n",
      "469/469 [==============================] - 1s 3ms/step - loss: 2.3022\n",
      "Epoch 18/50\n",
      "469/469 [==============================] - 1s 3ms/step - loss: 2.3022\n",
      "Epoch 19/50\n",
      "469/469 [==============================] - 1s 3ms/step - loss: 2.3022\n",
      "Epoch 20/50\n",
      "469/469 [==============================] - 1s 3ms/step - loss: 2.3022\n",
      "Epoch 21/50\n",
      "469/469 [==============================] - 1s 3ms/step - loss: 2.3022\n",
      "Epoch 22/50\n",
      "469/469 [==============================] - 1s 3ms/step - loss: 2.3022\n",
      "Epoch 23/50\n",
      "469/469 [==============================] - 1s 3ms/step - loss: 2.3022\n",
      "Epoch 24/50\n",
      "469/469 [==============================] - 1s 3ms/step - loss: 2.3022\n",
      "Epoch 25/50\n",
      "469/469 [==============================] - 1s 3ms/step - loss: 2.3022\n",
      "Epoch 26/50\n",
      "469/469 [==============================] - 1s 3ms/step - loss: 2.3022\n",
      "Epoch 27/50\n",
      "469/469 [==============================] - 1s 3ms/step - loss: 2.3013\n",
      "Epoch 28/50\n",
      "469/469 [==============================] - 1s 3ms/step - loss: 2.2972\n",
      "Epoch 29/50\n",
      "469/469 [==============================] - 1s 3ms/step - loss: 2.2928\n",
      "Epoch 30/50\n",
      "469/469 [==============================] - 1s 3ms/step - loss: 2.3022\n",
      "Epoch 31/50\n",
      "469/469 [==============================] - 1s 3ms/step - loss: 2.3033\n",
      "Epoch 32/50\n",
      "469/469 [==============================] - 1s 3ms/step - loss: 2.3033\n",
      "Epoch 33/50\n",
      "469/469 [==============================] - 1s 3ms/step - loss: 2.3033\n",
      "Epoch 34/50\n",
      "469/469 [==============================] - 1s 3ms/step - loss: 2.3033\n",
      "Epoch 35/50\n",
      "469/469 [==============================] - 1s 3ms/step - loss: 2.3033\n",
      "Epoch 36/50\n",
      "469/469 [==============================] - 1s 3ms/step - loss: 2.3033\n",
      "Epoch 37/50\n",
      "469/469 [==============================] - 1s 3ms/step - loss: 2.3033\n",
      "Epoch 38/50\n",
      "469/469 [==============================] - 1s 3ms/step - loss: 2.3033\n",
      "Epoch 39/50\n",
      "469/469 [==============================] - 1s 3ms/step - loss: 2.3033\n",
      "Epoch 40/50\n",
      "469/469 [==============================] - 1s 3ms/step - loss: 2.3033\n",
      "Epoch 41/50\n",
      "469/469 [==============================] - 1s 3ms/step - loss: 2.3033\n",
      "Epoch 42/50\n",
      "469/469 [==============================] - 1s 3ms/step - loss: 2.3033\n",
      "Epoch 43/50\n",
      "469/469 [==============================] - 1s 3ms/step - loss: 2.3033\n",
      "Epoch 44/50\n",
      "469/469 [==============================] - 1s 3ms/step - loss: 2.3033\n",
      "Epoch 45/50\n",
      "469/469 [==============================] - 1s 3ms/step - loss: 2.3033\n",
      "Epoch 46/50\n",
      "469/469 [==============================] - 1s 3ms/step - loss: 2.3033\n",
      "Epoch 47/50\n",
      "469/469 [==============================] - 1s 3ms/step - loss: 2.3033\n",
      "Epoch 48/50\n",
      "469/469 [==============================] - 1s 3ms/step - loss: 2.3033\n",
      "Epoch 49/50\n",
      "469/469 [==============================] - 1s 3ms/step - loss: 2.3033\n",
      "Epoch 50/50\n",
      "469/469 [==============================] - 1s 3ms/step - loss: 2.3033\n"
     ]
    },
    {
     "data": {
      "text/plain": [
       "<keras.callbacks.History at 0x7f3efc131b50>"
      ]
     },
     "execution_count": 25,
     "metadata": {},
     "output_type": "execute_result"
    }
   ],
   "source": [
    "m1.fit(xtrain, ytrain, epochs=50, batch_size=128)"
   ]
  },
  {
   "cell_type": "code",
   "execution_count": 26,
   "id": "ebf29d64-e681-439f-84c1-c0feaa9fe8fa",
   "metadata": {},
   "outputs": [],
   "source": [
    "d_in2 = Flatten(input_shape=(28,28))\n",
    "d_h12 = Dense(2048)\n",
    "d_out2 = Dense(10)\n",
    "m2 = keras.Sequential([d_in2, d_h12, d_out2])\n"
   ]
  },
  {
   "cell_type": "code",
   "execution_count": 27,
   "id": "22250dfc-c332-4077-ae1e-4a2f74cb74fb",
   "metadata": {},
   "outputs": [],
   "source": [
    "d_in3 = Flatten(input_shape=(28,28))\n",
    "d_h13 = Dense(1024, activation='relu')\n",
    "d_h23 = Dense(2048 , activation='relu')\n",
    "d_out3 = Dense(10, activation='softmax')\n",
    "m3 = keras.Sequential([d_in3, d_h13, d_h23, d_out3])\n",
    "m3.compile(loss=lossFN, optimizer=optimizerFN)"
   ]
  },
  {
   "cell_type": "code",
   "execution_count": 28,
   "id": "bdf511fe-7806-44c6-b153-dcec1fb72a15",
   "metadata": {},
   "outputs": [],
   "source": [
    "m2.compile(loss=lossFN, optimizer=optimizerFN)\n"
   ]
  },
  {
   "cell_type": "code",
   "execution_count": null,
   "id": "2d9e89b4-bd11-48ed-aad0-40259e800498",
   "metadata": {},
   "outputs": [],
   "source": []
  },
  {
   "cell_type": "code",
   "execution_count": 29,
   "id": "071171ab-554f-412c-ad07-76e2c93ae6d9",
   "metadata": {},
   "outputs": [
    {
     "data": {
      "text/plain": [
       "<keras.callbacks.History at 0x7f3eef2307c0>"
      ]
     },
     "execution_count": 29,
     "metadata": {},
     "output_type": "execute_result"
    }
   ],
   "source": [
    "m3.fit(xtrain, ytrain, epochs=50, verbose=0, batch_size=128)"
   ]
  },
  {
   "cell_type": "code",
   "execution_count": 30,
   "id": "6a4ae336-77bb-498c-8d0b-3ac424a43376",
   "metadata": {},
   "outputs": [
    {
     "name": "stdout",
     "output_type": "stream",
     "text": [
      "313/313 [==============================] - 0s 1ms/step\n",
      "313/313 [==============================] - 1s 2ms/step\n"
     ]
    }
   ],
   "source": [
    "p1 = m1.predict(xtest)\n",
    "#p2 = m2.predict(xtest)\n",
    "p3 = m3.predict(xtest)"
   ]
  },
  {
   "cell_type": "code",
   "execution_count": null,
   "id": "f8270516-39c6-4239-8d95-06ff9e21f413",
   "metadata": {},
   "outputs": [],
   "source": []
  },
  {
   "cell_type": "code",
   "execution_count": 31,
   "id": "efacb549-2a10-4fec-b30b-ead46ea7ca99",
   "metadata": {},
   "outputs": [],
   "source": [
    "from sklearn.metrics import accuracy_score"
   ]
  },
  {
   "cell_type": "code",
   "execution_count": 32,
   "id": "237675f2-522e-4c56-9803-e33eed6b9a30",
   "metadata": {},
   "outputs": [],
   "source": [
    "import numpy as np\n",
    "p_1 = [ np.argmax(px) for px in p1]\n",
    "#p_2 = [ np.argmax(px) for px in p2]\n",
    "p_3 = [ np.argmax(px) for px in p3]"
   ]
  },
  {
   "cell_type": "code",
   "execution_count": 33,
   "id": "109a855d-5416-442c-bf6e-215241f28ee8",
   "metadata": {},
   "outputs": [
    {
     "data": {
      "text/plain": [
       "0.1195"
      ]
     },
     "execution_count": 33,
     "metadata": {},
     "output_type": "execute_result"
    }
   ],
   "source": [
    "accuracy_score (p_1, ytest)"
   ]
  },
  {
   "cell_type": "code",
   "execution_count": 34,
   "id": "291687ce-e44f-4ac8-8ef4-8b528cee9163",
   "metadata": {},
   "outputs": [],
   "source": [
    "#accuracy_score (p_2, ytest)"
   ]
  },
  {
   "cell_type": "code",
   "execution_count": 35,
   "id": "0daf6b76-0150-41aa-971c-bb88c8a66ce9",
   "metadata": {},
   "outputs": [
    {
     "data": {
      "text/plain": [
       "0.8848"
      ]
     },
     "execution_count": 35,
     "metadata": {},
     "output_type": "execute_result"
    }
   ],
   "source": [
    "accuracy_score (p_3, ytest)"
   ]
  },
  {
   "cell_type": "code",
   "execution_count": null,
   "id": "c6739414-9c5a-46af-bbb2-d9e6f1a21489",
   "metadata": {},
   "outputs": [],
   "source": []
  }
 ],
 "metadata": {
  "kernelspec": {
   "display_name": "Python 3.8 - Pytorch and Tensorflow",
   "language": "python",
   "name": "python38-azureml-pt-tf"
  },
  "language_info": {
   "codemirror_mode": {
    "name": "ipython",
    "version": 3
   },
   "file_extension": ".py",
   "mimetype": "text/x-python",
   "name": "python",
   "nbconvert_exporter": "python",
   "pygments_lexer": "ipython3",
   "version": "3.8.5"
  }
 },
 "nbformat": 4,
 "nbformat_minor": 5
}
